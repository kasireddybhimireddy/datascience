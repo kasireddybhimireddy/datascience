{
 "cells": [
  {
   "cell_type": "code",
   "execution_count": 1,
   "metadata": {
    "collapsed": true
   },
   "outputs": [],
   "source": [
    "import os\n",
    "\n"
   ]
  },
  {
   "cell_type": "code",
   "execution_count": 2,
   "metadata": {
    "collapsed": false
   },
   "outputs": [
    {
     "data": {
      "text/plain": [
       "'C:\\\\Anaconda2'"
      ]
     },
     "execution_count": 2,
     "metadata": {},
     "output_type": "execute_result"
    }
   ],
   "source": [
    "os.getcwd()"
   ]
  },
  {
   "cell_type": "code",
   "execution_count": 4,
   "metadata": {
    "collapsed": true
   },
   "outputs": [],
   "source": [
    "from sklearn.datasets import load_iris"
   ]
  },
  {
   "cell_type": "code",
   "execution_count": 5,
   "metadata": {
    "collapsed": true
   },
   "outputs": [],
   "source": [
    "iris = load_iris()"
   ]
  },
  {
   "cell_type": "code",
   "execution_count": 7,
   "metadata": {
    "collapsed": false
   },
   "outputs": [],
   "source": [
    "#rnd_clf = RandomForestClassifier(n_estimators=500, n_jobs=-1)\n",
    "from sklearn.ensemble import RandomForestClassifier"
   ]
  },
  {
   "cell_type": "code",
   "execution_count": 8,
   "metadata": {
    "collapsed": true
   },
   "outputs": [],
   "source": [
    "rnd_clf = RandomForestClassifier(n_estimators=500, n_jobs=-1)"
   ]
  },
  {
   "cell_type": "code",
   "execution_count": 9,
   "metadata": {
    "collapsed": false
   },
   "outputs": [
    {
     "data": {
      "text/plain": [
       "RandomForestClassifier(bootstrap=True, class_weight=None, criterion='gini',\n",
       "            max_depth=None, max_features='auto', max_leaf_nodes=None,\n",
       "            min_samples_leaf=1, min_samples_split=2,\n",
       "            min_weight_fraction_leaf=0.0, n_estimators=500, n_jobs=-1,\n",
       "            oob_score=False, random_state=None, verbose=0,\n",
       "            warm_start=False)"
      ]
     },
     "execution_count": 9,
     "metadata": {},
     "output_type": "execute_result"
    }
   ],
   "source": [
    "rnd_clf.fit(iris[\"data\"], iris[\"target\"])"
   ]
  },
  {
   "cell_type": "code",
   "execution_count": 14,
   "metadata": {
    "collapsed": false
   },
   "outputs": [
    {
     "name": "stdout",
     "output_type": "stream",
     "text": [
      "{'target_names': array(['setosa', 'versicolor', 'virginica'], \n",
      "      dtype='|S10'), 'data': array([[ 5.1,  3.5,  1.4,  0.2],\n",
      "       [ 4.9,  3. ,  1.4,  0.2],\n",
      "       [ 4.7,  3.2,  1.3,  0.2],\n",
      "       [ 4.6,  3.1,  1.5,  0.2],\n",
      "       [ 5. ,  3.6,  1.4,  0.2],\n",
      "       [ 5.4,  3.9,  1.7,  0.4],\n",
      "       [ 4.6,  3.4,  1.4,  0.3],\n",
      "       [ 5. ,  3.4,  1.5,  0.2],\n",
      "       [ 4.4,  2.9,  1.4,  0.2],\n",
      "       [ 4.9,  3.1,  1.5,  0.1],\n",
      "       [ 5.4,  3.7,  1.5,  0.2],\n",
      "       [ 4.8,  3.4,  1.6,  0.2],\n",
      "       [ 4.8,  3. ,  1.4,  0.1],\n",
      "       [ 4.3,  3. ,  1.1,  0.1],\n",
      "       [ 5.8,  4. ,  1.2,  0.2],\n",
      "       [ 5.7,  4.4,  1.5,  0.4],\n",
      "       [ 5.4,  3.9,  1.3,  0.4],\n",
      "       [ 5.1,  3.5,  1.4,  0.3],\n",
      "       [ 5.7,  3.8,  1.7,  0.3],\n",
      "       [ 5.1,  3.8,  1.5,  0.3],\n",
      "       [ 5.4,  3.4,  1.7,  0.2],\n",
      "       [ 5.1,  3.7,  1.5,  0.4],\n",
      "       [ 4.6,  3.6,  1. ,  0.2],\n",
      "       [ 5.1,  3.3,  1.7,  0.5],\n",
      "       [ 4.8,  3.4,  1.9,  0.2],\n",
      "       [ 5. ,  3. ,  1.6,  0.2],\n",
      "       [ 5. ,  3.4,  1.6,  0.4],\n",
      "       [ 5.2,  3.5,  1.5,  0.2],\n",
      "       [ 5.2,  3.4,  1.4,  0.2],\n",
      "       [ 4.7,  3.2,  1.6,  0.2],\n",
      "       [ 4.8,  3.1,  1.6,  0.2],\n",
      "       [ 5.4,  3.4,  1.5,  0.4],\n",
      "       [ 5.2,  4.1,  1.5,  0.1],\n",
      "       [ 5.5,  4.2,  1.4,  0.2],\n",
      "       [ 4.9,  3.1,  1.5,  0.1],\n",
      "       [ 5. ,  3.2,  1.2,  0.2],\n",
      "       [ 5.5,  3.5,  1.3,  0.2],\n",
      "       [ 4.9,  3.1,  1.5,  0.1],\n",
      "       [ 4.4,  3. ,  1.3,  0.2],\n",
      "       [ 5.1,  3.4,  1.5,  0.2],\n",
      "       [ 5. ,  3.5,  1.3,  0.3],\n",
      "       [ 4.5,  2.3,  1.3,  0.3],\n",
      "       [ 4.4,  3.2,  1.3,  0.2],\n",
      "       [ 5. ,  3.5,  1.6,  0.6],\n",
      "       [ 5.1,  3.8,  1.9,  0.4],\n",
      "       [ 4.8,  3. ,  1.4,  0.3],\n",
      "       [ 5.1,  3.8,  1.6,  0.2],\n",
      "       [ 4.6,  3.2,  1.4,  0.2],\n",
      "       [ 5.3,  3.7,  1.5,  0.2],\n",
      "       [ 5. ,  3.3,  1.4,  0.2],\n",
      "       [ 7. ,  3.2,  4.7,  1.4],\n",
      "       [ 6.4,  3.2,  4.5,  1.5],\n",
      "       [ 6.9,  3.1,  4.9,  1.5],\n",
      "       [ 5.5,  2.3,  4. ,  1.3],\n",
      "       [ 6.5,  2.8,  4.6,  1.5],\n",
      "       [ 5.7,  2.8,  4.5,  1.3],\n",
      "       [ 6.3,  3.3,  4.7,  1.6],\n",
      "       [ 4.9,  2.4,  3.3,  1. ],\n",
      "       [ 6.6,  2.9,  4.6,  1.3],\n",
      "       [ 5.2,  2.7,  3.9,  1.4],\n",
      "       [ 5. ,  2. ,  3.5,  1. ],\n",
      "       [ 5.9,  3. ,  4.2,  1.5],\n",
      "       [ 6. ,  2.2,  4. ,  1. ],\n",
      "       [ 6.1,  2.9,  4.7,  1.4],\n",
      "       [ 5.6,  2.9,  3.6,  1.3],\n",
      "       [ 6.7,  3.1,  4.4,  1.4],\n",
      "       [ 5.6,  3. ,  4.5,  1.5],\n",
      "       [ 5.8,  2.7,  4.1,  1. ],\n",
      "       [ 6.2,  2.2,  4.5,  1.5],\n",
      "       [ 5.6,  2.5,  3.9,  1.1],\n",
      "       [ 5.9,  3.2,  4.8,  1.8],\n",
      "       [ 6.1,  2.8,  4. ,  1.3],\n",
      "       [ 6.3,  2.5,  4.9,  1.5],\n",
      "       [ 6.1,  2.8,  4.7,  1.2],\n",
      "       [ 6.4,  2.9,  4.3,  1.3],\n",
      "       [ 6.6,  3. ,  4.4,  1.4],\n",
      "       [ 6.8,  2.8,  4.8,  1.4],\n",
      "       [ 6.7,  3. ,  5. ,  1.7],\n",
      "       [ 6. ,  2.9,  4.5,  1.5],\n",
      "       [ 5.7,  2.6,  3.5,  1. ],\n",
      "       [ 5.5,  2.4,  3.8,  1.1],\n",
      "       [ 5.5,  2.4,  3.7,  1. ],\n",
      "       [ 5.8,  2.7,  3.9,  1.2],\n",
      "       [ 6. ,  2.7,  5.1,  1.6],\n",
      "       [ 5.4,  3. ,  4.5,  1.5],\n",
      "       [ 6. ,  3.4,  4.5,  1.6],\n",
      "       [ 6.7,  3.1,  4.7,  1.5],\n",
      "       [ 6.3,  2.3,  4.4,  1.3],\n",
      "       [ 5.6,  3. ,  4.1,  1.3],\n",
      "       [ 5.5,  2.5,  4. ,  1.3],\n",
      "       [ 5.5,  2.6,  4.4,  1.2],\n",
      "       [ 6.1,  3. ,  4.6,  1.4],\n",
      "       [ 5.8,  2.6,  4. ,  1.2],\n",
      "       [ 5. ,  2.3,  3.3,  1. ],\n",
      "       [ 5.6,  2.7,  4.2,  1.3],\n",
      "       [ 5.7,  3. ,  4.2,  1.2],\n",
      "       [ 5.7,  2.9,  4.2,  1.3],\n",
      "       [ 6.2,  2.9,  4.3,  1.3],\n",
      "       [ 5.1,  2.5,  3. ,  1.1],\n",
      "       [ 5.7,  2.8,  4.1,  1.3],\n",
      "       [ 6.3,  3.3,  6. ,  2.5],\n",
      "       [ 5.8,  2.7,  5.1,  1.9],\n",
      "       [ 7.1,  3. ,  5.9,  2.1],\n",
      "       [ 6.3,  2.9,  5.6,  1.8],\n",
      "       [ 6.5,  3. ,  5.8,  2.2],\n",
      "       [ 7.6,  3. ,  6.6,  2.1],\n",
      "       [ 4.9,  2.5,  4.5,  1.7],\n",
      "       [ 7.3,  2.9,  6.3,  1.8],\n",
      "       [ 6.7,  2.5,  5.8,  1.8],\n",
      "       [ 7.2,  3.6,  6.1,  2.5],\n",
      "       [ 6.5,  3.2,  5.1,  2. ],\n",
      "       [ 6.4,  2.7,  5.3,  1.9],\n",
      "       [ 6.8,  3. ,  5.5,  2.1],\n",
      "       [ 5.7,  2.5,  5. ,  2. ],\n",
      "       [ 5.8,  2.8,  5.1,  2.4],\n",
      "       [ 6.4,  3.2,  5.3,  2.3],\n",
      "       [ 6.5,  3. ,  5.5,  1.8],\n",
      "       [ 7.7,  3.8,  6.7,  2.2],\n",
      "       [ 7.7,  2.6,  6.9,  2.3],\n",
      "       [ 6. ,  2.2,  5. ,  1.5],\n",
      "       [ 6.9,  3.2,  5.7,  2.3],\n",
      "       [ 5.6,  2.8,  4.9,  2. ],\n",
      "       [ 7.7,  2.8,  6.7,  2. ],\n",
      "       [ 6.3,  2.7,  4.9,  1.8],\n",
      "       [ 6.7,  3.3,  5.7,  2.1],\n",
      "       [ 7.2,  3.2,  6. ,  1.8],\n",
      "       [ 6.2,  2.8,  4.8,  1.8],\n",
      "       [ 6.1,  3. ,  4.9,  1.8],\n",
      "       [ 6.4,  2.8,  5.6,  2.1],\n",
      "       [ 7.2,  3. ,  5.8,  1.6],\n",
      "       [ 7.4,  2.8,  6.1,  1.9],\n",
      "       [ 7.9,  3.8,  6.4,  2. ],\n",
      "       [ 6.4,  2.8,  5.6,  2.2],\n",
      "       [ 6.3,  2.8,  5.1,  1.5],\n",
      "       [ 6.1,  2.6,  5.6,  1.4],\n",
      "       [ 7.7,  3. ,  6.1,  2.3],\n",
      "       [ 6.3,  3.4,  5.6,  2.4],\n",
      "       [ 6.4,  3.1,  5.5,  1.8],\n",
      "       [ 6. ,  3. ,  4.8,  1.8],\n",
      "       [ 6.9,  3.1,  5.4,  2.1],\n",
      "       [ 6.7,  3.1,  5.6,  2.4],\n",
      "       [ 6.9,  3.1,  5.1,  2.3],\n",
      "       [ 5.8,  2.7,  5.1,  1.9],\n",
      "       [ 6.8,  3.2,  5.9,  2.3],\n",
      "       [ 6.7,  3.3,  5.7,  2.5],\n",
      "       [ 6.7,  3. ,  5.2,  2.3],\n",
      "       [ 6.3,  2.5,  5. ,  1.9],\n",
      "       [ 6.5,  3. ,  5.2,  2. ],\n",
      "       [ 6.2,  3.4,  5.4,  2.3],\n",
      "       [ 5.9,  3. ,  5.1,  1.8]]), 'target': array([0, 0, 0, 0, 0, 0, 0, 0, 0, 0, 0, 0, 0, 0, 0, 0, 0, 0, 0, 0, 0, 0, 0,\n",
      "       0, 0, 0, 0, 0, 0, 0, 0, 0, 0, 0, 0, 0, 0, 0, 0, 0, 0, 0, 0, 0, 0, 0,\n",
      "       0, 0, 0, 0, 1, 1, 1, 1, 1, 1, 1, 1, 1, 1, 1, 1, 1, 1, 1, 1, 1, 1, 1,\n",
      "       1, 1, 1, 1, 1, 1, 1, 1, 1, 1, 1, 1, 1, 1, 1, 1, 1, 1, 1, 1, 1, 1, 1,\n",
      "       1, 1, 1, 1, 1, 1, 1, 1, 2, 2, 2, 2, 2, 2, 2, 2, 2, 2, 2, 2, 2, 2, 2,\n",
      "       2, 2, 2, 2, 2, 2, 2, 2, 2, 2, 2, 2, 2, 2, 2, 2, 2, 2, 2, 2, 2, 2, 2,\n",
      "       2, 2, 2, 2, 2, 2, 2, 2, 2, 2, 2, 2]), 'DESCR': 'Iris Plants Database\\n\\nNotes\\n-----\\nData Set Characteristics:\\n    :Number of Instances: 150 (50 in each of three classes)\\n    :Number of Attributes: 4 numeric, predictive attributes and the class\\n    :Attribute Information:\\n        - sepal length in cm\\n        - sepal width in cm\\n        - petal length in cm\\n        - petal width in cm\\n        - class:\\n                - Iris-Setosa\\n                - Iris-Versicolour\\n                - Iris-Virginica\\n    :Summary Statistics:\\n\\n    ============== ==== ==== ======= ===== ====================\\n                    Min  Max   Mean    SD   Class Correlation\\n    ============== ==== ==== ======= ===== ====================\\n    sepal length:   4.3  7.9   5.84   0.83    0.7826\\n    sepal width:    2.0  4.4   3.05   0.43   -0.4194\\n    petal length:   1.0  6.9   3.76   1.76    0.9490  (high!)\\n    petal width:    0.1  2.5   1.20  0.76     0.9565  (high!)\\n    ============== ==== ==== ======= ===== ====================\\n\\n    :Missing Attribute Values: None\\n    :Class Distribution: 33.3% for each of 3 classes.\\n    :Creator: R.A. Fisher\\n    :Donor: Michael Marshall (MARSHALL%PLU@io.arc.nasa.gov)\\n    :Date: July, 1988\\n\\nThis is a copy of UCI ML iris datasets.\\nhttp://archive.ics.uci.edu/ml/datasets/Iris\\n\\nThe famous Iris database, first used by Sir R.A Fisher\\n\\nThis is perhaps the best known database to be found in the\\npattern recognition literature.  Fisher\\'s paper is a classic in the field and\\nis referenced frequently to this day.  (See Duda & Hart, for example.)  The\\ndata set contains 3 classes of 50 instances each, where each class refers to a\\ntype of iris plant.  One class is linearly separable from the other 2; the\\nlatter are NOT linearly separable from each other.\\n\\nReferences\\n----------\\n   - Fisher,R.A. \"The use of multiple measurements in taxonomic problems\"\\n     Annual Eugenics, 7, Part II, 179-188 (1936); also in \"Contributions to\\n     Mathematical Statistics\" (John Wiley, NY, 1950).\\n   - Duda,R.O., & Hart,P.E. (1973) Pattern Classification and Scene Analysis.\\n     (Q327.D83) John Wiley & Sons.  ISBN 0-471-22361-1.  See page 218.\\n   - Dasarathy, B.V. (1980) \"Nosing Around the Neighborhood: A New System\\n     Structure and Classification Rule for Recognition in Partially Exposed\\n     Environments\".  IEEE Transactions on Pattern Analysis and Machine\\n     Intelligence, Vol. PAMI-2, No. 1, 67-71.\\n   - Gates, G.W. (1972) \"The Reduced Nearest Neighbor Rule\".  IEEE Transactions\\n     on Information Theory, May 1972, 431-433.\\n   - See also: 1988 MLC Proceedings, 54-64.  Cheeseman et al\"s AUTOCLASS II\\n     conceptual clustering system finds 3 classes in the data.\\n   - Many, many more ...\\n', 'feature_names': ['sepal length (cm)', 'sepal width (cm)', 'petal length (cm)', 'petal width (cm)']}\n"
     ]
    }
   ],
   "source": [
    "print(iris)"
   ]
  },
  {
   "cell_type": "code",
   "execution_count": 15,
   "metadata": {
    "collapsed": false
   },
   "outputs": [
    {
     "name": "stdout",
     "output_type": "stream",
     "text": [
      "('sepal length (cm)', 0.095453489907044567)\n",
      "('sepal width (cm)', 0.024252702776912542)\n",
      "('petal length (cm)', 0.44425700287017378)\n",
      "('petal width (cm)', 0.43603680444586923)\n"
     ]
    }
   ],
   "source": [
    "for name, score in zip(iris[\"feature_names\"], rnd_clf.feature_importances_):\n",
    "    print(name, score)"
   ]
  },
  {
   "cell_type": "code",
   "execution_count": 18,
   "metadata": {
    "collapsed": true
   },
   "outputs": [],
   "source": [
    "from sklearn.ensemble import AdaBoostClassifier\n",
    "from sklearn.tree import DecisionTreeClassifier"
   ]
  },
  {
   "cell_type": "code",
   "execution_count": 19,
   "metadata": {
    "collapsed": false
   },
   "outputs": [],
   "source": [
    "ada_clf = AdaBoostClassifier(\n",
    "DecisionTreeClassifier(max_depth=1), n_estimators=200,\n",
    "algorithm=\"SAMME.R\", learning_rate=0.5\n",
    ")"
   ]
  },
  {
   "cell_type": "code",
   "execution_count": 21,
   "metadata": {
    "collapsed": false
   },
   "outputs": [
    {
     "data": {
      "text/plain": [
       "AdaBoostClassifier(algorithm='SAMME.R',\n",
       "          base_estimator=DecisionTreeClassifier(class_weight=None, criterion='gini', max_depth=1,\n",
       "            max_features=None, max_leaf_nodes=None, min_samples_leaf=1,\n",
       "            min_samples_split=2, min_weight_fraction_leaf=0.0,\n",
       "            presort=False, random_state=None, splitter='best'),\n",
       "          learning_rate=0.5, n_estimators=200, random_state=None)"
      ]
     },
     "execution_count": 21,
     "metadata": {},
     "output_type": "execute_result"
    }
   ],
   "source": [
    "ada_clf.fit(iris[\"data\"], iris[\"target\"])"
   ]
  },
  {
   "cell_type": "code",
   "execution_count": 23,
   "metadata": {
    "collapsed": false
   },
   "outputs": [
    {
     "name": "stdout",
     "output_type": "stream",
     "text": [
      "(<bound method AdaBoostClassifier.get_params of AdaBoostClassifier(algorithm='SAMME.R',\n",
      "          base_estimator=DecisionTreeClassifier(class_weight=None, criterion='gini', max_depth=1,\n",
      "            max_features=None, max_leaf_nodes=None, min_samples_leaf=1,\n",
      "            min_samples_split=2, min_weight_fraction_leaf=0.0,\n",
      "            presort=False, random_state=None, splitter='best'),\n",
      "          learning_rate=0.5, n_estimators=200, random_state=None)>, array([ 0.   ,  0.   ,  0.505,  0.495]))\n"
     ]
    }
   ],
   "source": [
    "print(ada_clf.get_params,ada_clf.feature_importances_)"
   ]
  },
  {
   "cell_type": "code",
   "execution_count": 24,
   "metadata": {
    "collapsed": true
   },
   "outputs": [],
   "source": [
    "from sklearn.ensemble import GradientBoostingRegressor"
   ]
  },
  {
   "cell_type": "code",
   "execution_count": 26,
   "metadata": {
    "collapsed": false
   },
   "outputs": [
    {
     "data": {
      "text/plain": [
       "GradientBoostingRegressor(alpha=0.9, init=None, learning_rate=1.0, loss='ls',\n",
       "             max_depth=2, max_features=None, max_leaf_nodes=None,\n",
       "             min_samples_leaf=1, min_samples_split=2,\n",
       "             min_weight_fraction_leaf=0.0, n_estimators=3, presort='auto',\n",
       "             random_state=None, subsample=1.0, verbose=0, warm_start=False)"
      ]
     },
     "execution_count": 26,
     "metadata": {},
     "output_type": "execute_result"
    }
   ],
   "source": [
    "gbrt = GradientBoostingRegressor(max_depth=2, n_estimators=3, learning_rate=1.0)\n",
    "gbrt.fit(iris[\"data\"], iris[\"target\"])"
   ]
  },
  {
   "cell_type": "code",
   "execution_count": 27,
   "metadata": {
    "collapsed": false
   },
   "outputs": [
    {
     "data": {
      "text/plain": [
       "array([ 0.06223134,  0.        ,  0.06593256,  0.8718361 ])"
      ]
     },
     "execution_count": 27,
     "metadata": {},
     "output_type": "execute_result"
    }
   ],
   "source": [
    "gbrt.feature_importances_"
   ]
  },
  {
   "cell_type": "code",
   "execution_count": 29,
   "metadata": {
    "collapsed": false
   },
   "outputs": [
    {
     "name": "stdout",
     "output_type": "stream",
     "text": [
      "<bound method GradientBoostingRegressor.score of GradientBoostingRegressor(alpha=0.9, init=None, learning_rate=1.0, loss='ls',\n",
      "             max_depth=2, max_features=None, max_leaf_nodes=None,\n",
      "             min_samples_leaf=1, min_samples_split=2,\n",
      "             min_weight_fraction_leaf=0.0, n_estimators=3, presort='auto',\n",
      "             random_state=None, subsample=1.0, verbose=0, warm_start=False)>\n"
     ]
    }
   ],
   "source": [
    "print(gbrt.score)"
   ]
  },
  {
   "cell_type": "code",
   "execution_count": 30,
   "metadata": {
    "collapsed": true
   },
   "outputs": [],
   "source": [
    "from sklearn.decomposition import PCA"
   ]
  },
  {
   "cell_type": "code",
   "execution_count": 46,
   "metadata": {
    "collapsed": false
   },
   "outputs": [
    {
     "name": "stdout",
     "output_type": "stream",
     "text": [
      "[[ -2.68420713e+00  -3.26607315e-01   2.15118370e-02   1.00615724e-03]\n",
      " [ -2.71539062e+00   1.69556848e-01   2.03521425e-01   9.96024240e-02]\n",
      " [ -2.88981954e+00   1.37345610e-01  -2.47092410e-02   1.93045428e-02]\n",
      " [ -2.74643720e+00   3.11124316e-01  -3.76719753e-02  -7.59552741e-02]\n",
      " [ -2.72859298e+00  -3.33924564e-01  -9.62296998e-02  -6.31287327e-02]\n",
      " [ -2.27989736e+00  -7.47782713e-01  -1.74325619e-01  -2.71468037e-02]\n",
      " [ -2.82089068e+00   8.21045110e-02  -2.64251085e-01  -5.00996251e-02]\n",
      " [ -2.62648199e+00  -1.70405349e-01   1.58015103e-02  -4.62817610e-02]\n",
      " [ -2.88795857e+00   5.70798026e-01  -2.73354061e-02  -2.66154143e-02]\n",
      " [ -2.67384469e+00   1.06691704e-01   1.91533300e-01  -5.58909660e-02]\n",
      " [ -2.50652679e+00  -6.51935014e-01   6.92749958e-02  -1.66082478e-02]\n",
      " [ -2.61314272e+00  -2.15206320e-02  -1.07650353e-01  -1.57704569e-01]\n",
      " [ -2.78743398e+00   2.27740189e-01   2.00327788e-01  -7.23508674e-03]\n",
      " [ -3.22520045e+00   5.03279909e-01  -6.84136292e-02  -2.19466641e-02]\n",
      " [ -2.64354322e+00  -1.18619490e+00   1.44505704e-01   1.56980962e-01]\n",
      " [ -2.38386932e+00  -1.34475434e+00  -2.83730664e-01   1.92618171e-03]\n",
      " [ -2.62252620e+00  -8.18089675e-01  -1.45315989e-01   1.64740791e-01]\n",
      " [ -2.64832273e+00  -3.19136668e-01  -3.33942541e-02   7.61182133e-02]\n",
      " [ -2.19907796e+00  -8.79244088e-01   1.14521465e-01   2.53269397e-02]\n",
      " [ -2.58734619e+00  -5.20473639e-01  -2.19572088e-01  -6.90819912e-02]\n",
      " [ -2.31053170e+00  -3.97867822e-01   2.33695607e-01  -1.53237396e-02]\n",
      " [ -2.54323491e+00  -4.40031755e-01  -2.14836370e-01   3.84395001e-02]\n",
      " [ -3.21585769e+00  -1.41615572e-01  -2.99618982e-01   1.85704335e-03]\n",
      " [ -2.30312854e+00  -1.05522678e-01  -4.56800413e-02   1.47245500e-01]\n",
      " [ -2.35617109e+00   3.12095891e-02  -1.29407576e-01  -3.01620265e-01]\n",
      " [ -2.50791723e+00   1.39056340e-01   2.47116338e-01   3.53840813e-02]\n",
      " [ -2.46905600e+00  -1.37887315e-01  -1.01263079e-01   5.59704524e-02]\n",
      " [ -2.56239095e+00  -3.74684563e-01   7.23591574e-02  -1.52402868e-02]\n",
      " [ -2.63982127e+00  -3.19290066e-01   1.39253374e-01   6.51410472e-02]\n",
      " [ -2.63284791e+00   1.90075831e-01  -4.64664636e-02  -1.24611153e-01]\n",
      " [ -2.58846205e+00   1.97393079e-01   7.12750731e-02  -6.04762634e-02]\n",
      " [ -2.41007734e+00  -4.18080008e-01   1.38388240e-01   2.30844170e-01]\n",
      " [ -2.64763667e+00  -8.19982633e-01  -2.30585604e-01  -2.84808954e-01]\n",
      " [ -2.59715948e+00  -1.10002193e+00  -1.63581913e-01  -9.89580706e-02]\n",
      " [ -2.67384469e+00   1.06691704e-01   1.91533300e-01  -5.58909660e-02]\n",
      " [ -2.86699985e+00  -7.71930957e-02   1.56842350e-01   1.62452806e-01]\n",
      " [ -2.62522846e+00  -6.06800008e-01   2.61163156e-01   1.75879875e-01]\n",
      " [ -2.67384469e+00   1.06691704e-01   1.91533300e-01  -5.58909660e-02]\n",
      " [ -2.98184266e+00   4.80250049e-01  -7.97248074e-02  -1.10529508e-02]\n",
      " [ -2.59032303e+00  -2.36059337e-01   7.39012382e-02  -1.45563062e-02]\n",
      " [ -2.77013891e+00  -2.71059420e-01  -8.42415745e-02   9.23646573e-02]\n",
      " [ -2.85221108e+00   9.32865367e-01   3.40961491e-01   3.22650607e-01]\n",
      " [ -2.99829644e+00   3.34307575e-01  -1.99008425e-01  -7.58718213e-02]\n",
      " [ -2.40551410e+00  -1.95917258e-01  -2.70717070e-01   1.73785129e-01]\n",
      " [ -2.20883295e+00  -4.42696030e-01  -3.03487809e-01  -1.85857530e-01]\n",
      " [ -2.71566519e+00   2.42681483e-01   9.05156060e-02   1.42989025e-01]\n",
      " [ -2.53757337e+00  -5.10367545e-01  -1.71918404e-01  -1.92165946e-01]\n",
      " [ -2.84032130e+00   2.20576338e-01  -9.00613765e-02  -6.03928106e-02]\n",
      " [ -2.54268576e+00  -5.86281025e-01   1.11752678e-02  -4.83337025e-02]\n",
      " [ -2.70391231e+00  -1.15010852e-01   8.26957266e-02   3.40995730e-02]\n",
      " [  1.28479459e+00  -6.85439186e-01   4.06129553e-01   1.92901169e-02]\n",
      " [  9.32410753e-01  -3.19198090e-01   1.71299092e-02  -6.75794171e-06]\n",
      " [  1.46406132e+00  -5.04189833e-01   3.38260728e-01  -8.57644048e-04]\n",
      " [  1.80967206e-01   8.25603944e-01   1.77082856e-01   9.57844484e-02]\n",
      " [  1.08713449e+00  -7.53903893e-02   3.06544465e-01   1.13384539e-01]\n",
      " [  6.40436750e-01   4.17323483e-01  -4.11887694e-02  -2.42671312e-01]\n",
      " [  1.09522371e+00  -2.83891211e-01  -1.70022534e-01  -8.49733893e-02]\n",
      " [ -7.51467141e-01   1.00110751e+00  -1.56721942e-02  -1.65105922e-02]\n",
      " [  1.04329778e+00  -2.28956909e-01   4.14814566e-01  -3.75235536e-02]\n",
      " [ -1.01900707e-02   7.20574867e-01  -2.83437246e-01  -5.94570198e-03]\n",
      " [ -5.11086196e-01   1.26249195e+00   2.66489954e-01   4.89088061e-02]\n",
      " [  5.11098061e-01   1.02284105e-01  -1.32327890e-01   5.01005352e-02]\n",
      " [  2.62335756e-01   5.47893298e-01   6.91941578e-01   6.14849891e-02]\n",
      " [  9.84044545e-01   1.24360420e-01   6.21574276e-02  -1.69010670e-01]\n",
      " [ -1.74864002e-01   2.51815571e-01  -9.36586382e-02   1.24940887e-01]\n",
      " [  9.27572942e-01  -4.68236205e-01   3.13229401e-01   1.00438884e-01]\n",
      " [  6.59592789e-01   3.51976291e-01  -3.28384297e-01  -1.88991525e-01]\n",
      " [  2.34540586e-01   3.31921829e-01   2.70280671e-01  -2.11984995e-01]\n",
      " [  9.42361707e-01   5.41822258e-01   4.97348541e-01   2.60636685e-01]\n",
      " [  4.32464003e-02   5.81489447e-01   2.32963556e-01  -3.95611807e-02]\n",
      " [  1.11624072e+00   8.42140139e-02  -4.59844227e-01  -7.72135596e-02]\n",
      " [  3.56786568e-01   6.68238279e-02   2.27472180e-01   1.24090000e-01]\n",
      " [  1.29646885e+00   3.27561520e-01   3.47513213e-01   3.24623910e-03]\n",
      " [  9.20502649e-01   1.82390363e-01   2.31611419e-01  -2.86825347e-01]\n",
      " [  7.14008214e-01  -1.50379153e-01   3.20372333e-01   4.29412332e-02]\n",
      " [  8.99640863e-01  -3.29610980e-01   3.14771481e-01   1.01122865e-01]\n",
      " [  1.33104142e+00  -2.44669521e-01   5.21244925e-01   3.75050497e-02]\n",
      " [  1.55739627e+00  -2.67392585e-01   1.64638491e-01   7.03530951e-02]\n",
      " [  8.12455549e-01   1.62331575e-01  -3.63435763e-02  -2.96802711e-02]\n",
      " [ -3.07334756e-01   3.65086613e-01   3.15337197e-01   7.65303776e-02]\n",
      " [ -7.03428889e-02   7.02537932e-01   2.41758045e-01   9.09469852e-03]\n",
      " [ -1.91884492e-01   6.77490544e-01   3.03916543e-01  -1.80454588e-02]\n",
      " [  1.34994950e-01   3.11709643e-01   1.74973304e-01   3.41829142e-02]\n",
      " [  1.37873698e+00   4.21205138e-01  -1.54804951e-02  -1.77580737e-01]\n",
      " [  5.87274854e-01   4.83284268e-01  -4.44583753e-01  -2.52442435e-01]\n",
      " [  8.07205497e-01  -1.95053964e-01  -3.89458711e-01  -1.16615391e-01]\n",
      " [  1.22042897e+00  -4.08035337e-01   2.36566087e-01   3.16352440e-02]\n",
      " [  8.12867790e-01   3.70678998e-01   6.12871050e-01   1.57700491e-01]\n",
      " [  2.45195162e-01   2.66728036e-01  -1.89562485e-01  -1.47328042e-01]\n",
      " [  1.64513428e-01   6.79661469e-01   5.77992388e-02   3.09655779e-02]\n",
      " [  4.63030989e-01   6.69526547e-01   2.40538909e-02  -2.68443508e-01]\n",
      " [  8.90160446e-01   3.38124427e-02   9.76802637e-03  -1.53448206e-01]\n",
      " [  2.28879050e-01   4.02257620e-01   2.27362705e-01   1.86204508e-02]\n",
      " [ -7.07081284e-01   1.00842476e+00   1.02069343e-01   4.76242978e-02]\n",
      " [  3.55533039e-01   5.03218487e-01  -1.78894659e-02  -9.80716353e-02]\n",
      " [  3.31126947e-01   2.11180141e-01  -8.38090732e-02  -2.38686542e-01]\n",
      " [  3.75238229e-01   2.91622025e-01  -7.90733555e-02  -1.31165051e-01]\n",
      " [  6.41690278e-01  -1.90711765e-02   2.04172877e-01  -2.05096763e-02]\n",
      " [ -9.08463333e-01   7.51568725e-01   7.73658451e-03   2.33558634e-01]\n",
      " [  2.97807907e-01   3.47016522e-01  -1.21791392e-02  -5.07837171e-02]\n",
      " [  2.53172698e+00   1.18422366e-02  -7.58458652e-01  -3.25995685e-02]\n",
      " [  1.41407223e+00   5.74925056e-01  -2.96398224e-01  -1.56954783e-02]\n",
      " [  2.61648461e+00  -3.41935287e-01   1.12141371e-01   6.59560495e-02]\n",
      " [  1.97081495e+00   1.81125695e-01  -1.06539149e-01  -2.36858625e-01]\n",
      " [  2.34975798e+00   4.18825497e-02  -2.84110681e-01  -1.31272400e-03]\n",
      " [  3.39687992e+00  -5.47168046e-01   3.51873158e-01  -1.11219968e-01]\n",
      " [  5.19383245e-01   1.19135169e+00  -5.46685531e-01  -9.87984199e-02]\n",
      " [  2.93200510e+00  -3.52377006e-01   4.23691278e-01  -2.55407369e-01]\n",
      " [  2.31967279e+00   2.45548171e-01   3.49922183e-01  -7.62628625e-02]\n",
      " [  2.91813423e+00  -7.80380629e-01  -4.21738934e-01   1.07729319e-01]\n",
      " [  1.66193495e+00  -2.42038401e-01  -2.42815263e-01   1.19447585e-01]\n",
      " [  1.80234045e+00   2.16154607e-01   3.76953285e-02   7.87134526e-02]\n",
      " [  2.16537886e+00  -2.15280283e-01  -3.31481832e-02   1.62667280e-01]\n",
      " [  1.34459422e+00   7.76415425e-01  -2.82868018e-01   1.40481892e-01]\n",
      " [  1.58526730e+00   5.39307054e-01  -6.30570488e-01   3.27455367e-01]\n",
      " [  1.90474358e+00  -1.18818991e-01  -4.80138080e-01   2.17114500e-01]\n",
      " [  1.94924878e+00  -4.07302594e-02  -4.27290939e-02  -1.57845252e-01]\n",
      " [  3.48876538e+00  -1.17154454e+00  -1.29320083e-01  -3.11629838e-01]\n",
      " [  3.79468686e+00  -2.53265571e-01   5.16970716e-01   5.64516435e-02]\n",
      " [  1.29832982e+00   7.61013937e-01   3.44887047e-01  -4.26737181e-02]\n",
      " [  2.42816726e+00  -3.76781971e-01  -2.18649070e-01   1.83854179e-01]\n",
      " [  1.19809737e+00   6.05578962e-01  -5.12640765e-01   5.95000305e-02]\n",
      " [  3.49926548e+00  -4.56773467e-01   5.76910187e-01  -1.37759598e-01]\n",
      " [  1.38766825e+00   2.04030987e-01   6.35113218e-02   1.63763537e-01]\n",
      " [  2.27585365e+00  -3.33386526e-01  -2.84678153e-01  -6.22302776e-02]\n",
      " [  2.61419383e+00  -5.58366950e-01   2.08423347e-01  -2.40445433e-01]\n",
      " [  1.25762518e+00   1.79136997e-01  -4.69778074e-02   1.47600546e-01]\n",
      " [  1.29066965e+00   1.16425252e-01  -2.31613561e-01   3.08432157e-03]\n",
      " [  2.12285398e+00   2.10854885e-01  -1.53515885e-01   5.26124332e-02]\n",
      " [  2.38756440e+00  -4.62519251e-01   4.52023961e-01  -2.29906877e-01]\n",
      " [  2.84096093e+00  -3.72742591e-01   5.01031539e-01  -2.02166254e-02]\n",
      " [  3.23234290e+00  -1.37052404e+00   1.18448777e-01  -2.54487344e-01]\n",
      " [  2.15873837e+00   2.18325532e-01  -2.08421976e-01   1.27724489e-01]\n",
      " [  1.44310260e+00   1.43801289e-01   1.54082971e-01  -1.89925864e-01]\n",
      " [  1.77964011e+00   5.01464795e-01   1.75811186e-01  -5.03529453e-01]\n",
      " [  3.07652162e+00  -6.85764442e-01   3.36422741e-01   3.10589092e-01]\n",
      " [  2.14498686e+00  -1.38906609e-01  -7.34184739e-01   5.17665351e-02]\n",
      " [  1.90486293e+00  -4.80475082e-02  -1.60470631e-01  -2.21980142e-01]\n",
      " [  1.16885347e+00   1.64502500e-01  -2.82460881e-01   1.93307656e-02]\n",
      " [  2.10765373e+00  -3.71482249e-01  -2.74378565e-02   2.09955199e-01]\n",
      " [  2.31430339e+00  -1.82608851e-01  -3.22860401e-01   2.75896660e-01]\n",
      " [  1.92245088e+00  -4.09271176e-01  -1.15492816e-01   5.04095007e-01]\n",
      " [  1.41407223e+00   5.74925056e-01  -2.96398224e-01  -1.56954783e-02]\n",
      " [  2.56332271e+00  -2.75974502e-01  -2.91253613e-01   5.61849270e-02]\n",
      " [  2.41939122e+00  -3.03503938e-01  -5.04302517e-01   2.38217947e-01]\n",
      " [  1.94401705e+00  -1.87415222e-01  -1.79302871e-01   4.25081634e-01]\n",
      " [  1.52566363e+00   3.75020848e-01   1.20636441e-01   2.55722565e-01]\n",
      " [  1.76404594e+00  -7.85191864e-02  -1.30784053e-01   1.36294556e-01]\n",
      " [  1.90162908e+00  -1.15876748e-01  -7.22873561e-01   4.08728218e-02]\n",
      " [  1.38966613e+00   2.82886709e-01  -3.62317832e-01  -1.56310385e-01]]\n",
      "<type 'numpy.ndarray'>\n"
     ]
    }
   ],
   "source": [
    "pca = PCA(n_components = 4)\n",
    "X2D = pca.fit_transform(iris[\"data\"])\n",
    "print(X2D)\n",
    "print(type(X2D))"
   ]
  },
  {
   "cell_type": "code",
   "execution_count": 47,
   "metadata": {
    "collapsed": false
   },
   "outputs": [
    {
     "data": {
      "text/plain": [
       "array([[ 0.36158968, -0.08226889,  0.85657211,  0.35884393],\n",
       "       [-0.65653988, -0.72971237,  0.1757674 ,  0.07470647],\n",
       "       [ 0.58099728, -0.59641809, -0.07252408, -0.54906091],\n",
       "       [ 0.31725455, -0.32409435, -0.47971899,  0.75112056]])"
      ]
     },
     "execution_count": 47,
     "metadata": {},
     "output_type": "execute_result"
    }
   ],
   "source": [
    "pca.components_"
   ]
  },
  {
   "cell_type": "code",
   "execution_count": 48,
   "metadata": {
    "collapsed": false
   },
   "outputs": [
    {
     "name": "stdout",
     "output_type": "stream",
     "text": [
      "[ 0.92461621  0.05301557  0.01718514  0.00518309]\n"
     ]
    }
   ],
   "source": [
    "print(pca.explained_variance_ratio_)"
   ]
  },
  {
   "cell_type": "code",
   "execution_count": 49,
   "metadata": {
    "collapsed": false
   },
   "outputs": [
    {
     "name": "stdout",
     "output_type": "stream",
     "text": [
      "[ 4.19667516  0.24062861  0.07800042  0.02352514]\n"
     ]
    }
   ],
   "source": [
    "print(pca.explained_variance_)"
   ]
  },
  {
   "cell_type": "code",
   "execution_count": 54,
   "metadata": {
    "collapsed": false
   },
   "outputs": [
    {
     "name": "stdout",
     "output_type": "stream",
     "text": [
      "('*******************', array([[1, 2],\n",
      "       [3, 4],\n",
      "       [5, 6]]))\n",
      "('AT', array([[1, 3, 5],\n",
      "       [2, 4, 6]]))\n",
      "('mean is ', array([ 3.,  4.]))\n",
      "('!!!!!!!!!!!!!!!!!!!', array([[-2., -2.],\n",
      "       [ 0.,  0.],\n",
      "       [ 2.,  2.]]))\n",
      "[[ 4.  4.]\n",
      " [ 4.  4.]]\n",
      "[[ 0.70710678 -0.70710678]\n",
      " [ 0.70710678  0.70710678]]\n",
      "[ 8.  0.]\n",
      "[[-2.82842712  0.        ]\n",
      " [ 0.          0.        ]\n",
      " [ 2.82842712  0.        ]]\n"
     ]
    }
   ],
   "source": [
    "from numpy import array\n",
    "from numpy import mean\n",
    "from numpy import cov\n",
    "from numpy.linalg import eig\n",
    "# define a matrix\n",
    "A = array([[1, 2], [3, 4], [5, 6]])\n",
    "print(\"*******************\",A)\n",
    "print(\"AT\",A.T)\n",
    "# calculate the mean of each column\n",
    "M = mean(A.T, axis=1)\n",
    "print(\"mean is \",M)\n",
    "# center columns by subtracting column means\n",
    "C = A - M\n",
    "print(\"!!!!!!!!!!!!!!!!!!!\",C)\n",
    "# calculate covariance matrix of centered matrix\n",
    "V = cov(C.T)\n",
    "print(V)\n",
    "# eigendecomposition of covariance matrix\n",
    "values, vectors = eig(V)\n",
    "print(vectors)\n",
    "print(values)\n",
    "# project data\n",
    "P = vectors.T.dot(C.T)\n",
    "print(P.T)"
   ]
  },
  {
   "cell_type": "code",
   "execution_count": 55,
   "metadata": {
    "collapsed": false
   },
   "outputs": [
    {
     "name": "stdout",
     "output_type": "stream",
     "text": [
      "[[1 2]\n",
      " [3 4]\n",
      " [5 6]]\n",
      "[[ 0.70710671  0.70710683]\n",
      " [ 0.70710683 -0.70710671]]\n",
      "[  5.33333349e+00   2.42671684e-16]\n",
      "[[ -2.82842708e+00  -2.38418579e-07]\n",
      " [  0.00000000e+00   0.00000000e+00]\n",
      " [  2.82842708e+00   2.38418579e-07]]\n"
     ]
    }
   ],
   "source": [
    "#USING PCA\n",
    "\n",
    "# Principal Component Analysis\n",
    "from numpy import array\n",
    "from sklearn.decomposition import PCA\n",
    "# define a matrix\n",
    "A = array([[1, 2], [3, 4], [5, 6]])\n",
    "print(A)\n",
    "# create the PCA instance\n",
    "pca = PCA(2)\n",
    "# fit on data\n",
    "pca.fit(A)\n",
    "# access values and vectors\n",
    "print(pca.components_)\n",
    "print(pca.explained_variance_)\n",
    "# transform data\n",
    "B = pca.transform(A)\n",
    "print(B)"
   ]
  }
 ],
 "metadata": {
  "kernelspec": {
   "display_name": "Python 2",
   "language": "python",
   "name": "python2"
  },
  "language_info": {
   "codemirror_mode": {
    "name": "ipython",
    "version": 2
   },
   "file_extension": ".py",
   "mimetype": "text/x-python",
   "name": "python",
   "nbconvert_exporter": "python",
   "pygments_lexer": "ipython2",
   "version": "2.7.11"
  }
 },
 "nbformat": 4,
 "nbformat_minor": 0
}

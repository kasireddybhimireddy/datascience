{
 "cells": [
  {
   "cell_type": "code",
   "execution_count": 1,
   "metadata": {},
   "outputs": [],
   "source": [
    "# Importing the libraries\n",
    "import numpy as np\n",
    "import matplotlib.pyplot as plt\n",
    "import pandas as pd\n"
   ]
  },
  {
   "cell_type": "code",
   "execution_count": 2,
   "metadata": {},
   "outputs": [],
   "source": [
    "# Importing the dataset\n",
    "dataset = pd.read_csv('C:\\\\Users\\\\kasi\\Desktop\\\\iit_data_science\\\\deeplearning_june17\\\\deeplearing-20180623T155013Z-001\\\\deeplearing\\\\documents\\\\Churn_Modelling.csv')\n",
    "X = dataset.iloc[:, 3:13].values\n",
    "y = dataset.iloc[:, 13].values"
   ]
  },
  {
   "cell_type": "code",
   "execution_count": 3,
   "metadata": {},
   "outputs": [
    {
     "name": "stdout",
     "output_type": "stream",
     "text": [
      "[[619 'France' 'Female' ... 1 1 101348.88]\n",
      " [608 'Spain' 'Female' ... 0 1 112542.58]\n",
      " [502 'France' 'Female' ... 1 0 113931.57]\n",
      " ...\n",
      " [709 'France' 'Female' ... 0 1 42085.58]\n",
      " [772 'Germany' 'Male' ... 1 0 92888.52]\n",
      " [792 'France' 'Female' ... 1 0 38190.78]]\n"
     ]
    }
   ],
   "source": [
    "print(X)"
   ]
  },
  {
   "cell_type": "code",
   "execution_count": 4,
   "metadata": {},
   "outputs": [],
   "source": [
    "# Encoding categorical data\n",
    "from sklearn.preprocessing import LabelEncoder, OneHotEncoder\n",
    "labelencoder_X_1 = LabelEncoder()\n",
    "X[:, 1] = labelencoder_X_1.fit_transform(X[:, 1])\n",
    "labelencoder_X_2 = LabelEncoder()\n",
    "X[:, 2] = labelencoder_X_2.fit_transform(X[:, 2])\n",
    "onehotencoder = OneHotEncoder(categorical_features = [1])\n",
    "X = onehotencoder.fit_transform(X).toarray()\n",
    "X = X[:, 1:]"
   ]
  },
  {
   "cell_type": "code",
   "execution_count": 5,
   "metadata": {},
   "outputs": [],
   "source": [
    "# Splitting the dataset into the Training set and Test set\n",
    "from sklearn.model_selection import train_test_split\n",
    "X_train, X_test, y_train, y_test = train_test_split(X, y, test_size = 0.2, random_state = 0)"
   ]
  },
  {
   "cell_type": "code",
   "execution_count": 7,
   "metadata": {},
   "outputs": [],
   "source": [
    "# Feature Scaling\n",
    "from sklearn.preprocessing import StandardScaler\n",
    "sc = StandardScaler()\n",
    "X_train = sc.fit_transform(X_train)\n",
    "X_test = sc.transform(X_test)"
   ]
  },
  {
   "cell_type": "code",
   "execution_count": 11,
   "metadata": {},
   "outputs": [
    {
     "name": "stdout",
     "output_type": "stream",
     "text": [
      "(8000, 11)\n"
     ]
    }
   ],
   "source": [
    "print(X_train.shape)"
   ]
  },
  {
   "cell_type": "code",
   "execution_count": 23,
   "metadata": {},
   "outputs": [
    {
     "name": "stdout",
     "output_type": "stream",
     "text": [
      "(2000, 11)\n"
     ]
    }
   ],
   "source": [
    "print(X_test.shape)"
   ]
  },
  {
   "cell_type": "code",
   "execution_count": 8,
   "metadata": {},
   "outputs": [
    {
     "name": "stderr",
     "output_type": "stream",
     "text": [
      "Using TensorFlow backend.\n"
     ]
    }
   ],
   "source": [
    "# Part 2 - Now let's make the ANN!\n",
    "\n",
    "# Importing the Keras libraries and packages\n",
    "import keras\n",
    "from keras.models import Sequential\n",
    "from keras.layers import Dense\n",
    "from keras.layers import Dropout"
   ]
  },
  {
   "cell_type": "code",
   "execution_count": 9,
   "metadata": {},
   "outputs": [],
   "source": [
    "# Initialising the ANN\n",
    "classifier = Sequential()\n"
   ]
  },
  {
   "cell_type": "code",
   "execution_count": 10,
   "metadata": {},
   "outputs": [],
   "source": [
    "# Adding the input layer and the first hidden layer\n",
    "classifier.add(Dense(units = 6, kernel_initializer = 'uniform', activation = 'relu', input_dim = 11))\n",
    "# classifier.add(Dropout(p = 0.1))"
   ]
  },
  {
   "cell_type": "code",
   "execution_count": 12,
   "metadata": {},
   "outputs": [],
   "source": [
    "# Adding the second hidden layer\n",
    "classifier.add(Dense(units = 6, kernel_initializer = 'uniform', activation = 'relu'))\n",
    "# classifier.add(Dropout(p = 0.1))"
   ]
  },
  {
   "cell_type": "code",
   "execution_count": 13,
   "metadata": {},
   "outputs": [],
   "source": [
    "# Adding the output layer\n",
    "classifier.add(Dense(units = 1, kernel_initializer = 'uniform', activation = 'sigmoid'))"
   ]
  },
  {
   "cell_type": "code",
   "execution_count": 14,
   "metadata": {},
   "outputs": [],
   "source": [
    "# Compiling the ANN\n",
    "classifier.compile(optimizer = 'adam', loss = 'binary_crossentropy', metrics = ['accuracy'])"
   ]
  },
  {
   "cell_type": "code",
   "execution_count": 15,
   "metadata": {},
   "outputs": [
    {
     "name": "stdout",
     "output_type": "stream",
     "text": [
      "Epoch 1/100\n",
      "8000/8000 [==============================] - 1s 186us/step - loss: 0.4823 - acc: 0.7960\n",
      "Epoch 2/100\n",
      "8000/8000 [==============================] - 1s 127us/step - loss: 0.4251 - acc: 0.7960\n",
      "Epoch 3/100\n",
      "8000/8000 [==============================] - 1s 115us/step - loss: 0.4181 - acc: 0.8224\n",
      "Epoch 4/100\n",
      "8000/8000 [==============================] - 1s 116us/step - loss: 0.4122 - acc: 0.8295\n",
      "Epoch 5/100\n",
      "8000/8000 [==============================] - 1s 117us/step - loss: 0.4089 - acc: 0.8324\n",
      "Epoch 6/100\n",
      "8000/8000 [==============================] - 1s 125us/step - loss: 0.4064 - acc: 0.8339\n",
      "Epoch 7/100\n",
      "8000/8000 [==============================] - 1s 123us/step - loss: 0.4045 - acc: 0.8344\n",
      "Epoch 8/100\n",
      "8000/8000 [==============================] - 1s 130us/step - loss: 0.4023 - acc: 0.8334\n",
      "Epoch 9/100\n",
      "8000/8000 [==============================] - 1s 157us/step - loss: 0.4017 - acc: 0.8337\n",
      "Epoch 10/100\n",
      "8000/8000 [==============================] - 1s 138us/step - loss: 0.4005 - acc: 0.8350\n",
      "Epoch 11/100\n",
      "8000/8000 [==============================] - 2s 195us/step - loss: 0.3995 - acc: 0.8359\n",
      "Epoch 12/100\n",
      "8000/8000 [==============================] - 1s 134us/step - loss: 0.3988 - acc: 0.8362\n",
      "Epoch 13/100\n",
      "8000/8000 [==============================] - 1s 159us/step - loss: 0.3990 - acc: 0.8364\n",
      "Epoch 14/100\n",
      "8000/8000 [==============================] - 1s 151us/step - loss: 0.3981 - acc: 0.8362\n",
      "Epoch 15/100\n",
      "8000/8000 [==============================] - 1s 162us/step - loss: 0.3978 - acc: 0.8364\n",
      "Epoch 16/100\n",
      "8000/8000 [==============================] - 1s 146us/step - loss: 0.3973 - acc: 0.8364\n",
      "Epoch 17/100\n",
      "8000/8000 [==============================] - 1s 139us/step - loss: 0.3971 - acc: 0.8360\n",
      "Epoch 18/100\n",
      "8000/8000 [==============================] - 1s 128us/step - loss: 0.3972 - acc: 0.8350\n",
      "Epoch 19/100\n",
      "8000/8000 [==============================] - 1s 152us/step - loss: 0.3968 - acc: 0.8359\n",
      "Epoch 20/100\n",
      "8000/8000 [==============================] - 1s 125us/step - loss: 0.3960 - acc: 0.8354\n",
      "Epoch 21/100\n",
      "8000/8000 [==============================] - 1s 126us/step - loss: 0.3960 - acc: 0.8362\n",
      "Epoch 22/100\n",
      "8000/8000 [==============================] - 1s 149us/step - loss: 0.3958 - acc: 0.8346\n",
      "Epoch 23/100\n",
      "8000/8000 [==============================] - 1s 145us/step - loss: 0.3950 - acc: 0.8350\n",
      "Epoch 24/100\n",
      "8000/8000 [==============================] - 1s 147us/step - loss: 0.3954 - acc: 0.8341\n",
      "Epoch 25/100\n",
      "8000/8000 [==============================] - 1s 122us/step - loss: 0.3955 - acc: 0.8356\n",
      "Epoch 26/100\n",
      "8000/8000 [==============================] - 1s 122us/step - loss: 0.3952 - acc: 0.8356\n",
      "Epoch 27/100\n",
      "8000/8000 [==============================] - 1s 127us/step - loss: 0.3948 - acc: 0.8361\n",
      "Epoch 28/100\n",
      "8000/8000 [==============================] - 1s 133us/step - loss: 0.3945 - acc: 0.8374\n",
      "Epoch 29/100\n",
      "8000/8000 [==============================] - 1s 129us/step - loss: 0.3944 - acc: 0.8351\n",
      "Epoch 30/100\n",
      "8000/8000 [==============================] - 1s 125us/step - loss: 0.3944 - acc: 0.8360\n",
      "Epoch 31/100\n",
      "8000/8000 [==============================] - 1s 125us/step - loss: 0.3942 - acc: 0.8371\n",
      "Epoch 32/100\n",
      "8000/8000 [==============================] - 1s 137us/step - loss: 0.3939 - acc: 0.8365\n",
      "Epoch 33/100\n",
      "8000/8000 [==============================] - 1s 135us/step - loss: 0.3946 - acc: 0.8367\n",
      "Epoch 34/100\n",
      "8000/8000 [==============================] - 1s 129us/step - loss: 0.3934 - acc: 0.8369\n",
      "Epoch 35/100\n",
      "8000/8000 [==============================] - 1s 129us/step - loss: 0.3939 - acc: 0.8396\n",
      "Epoch 36/100\n",
      "8000/8000 [==============================] - 1s 126us/step - loss: 0.3937 - acc: 0.8350\n",
      "Epoch 37/100\n",
      "8000/8000 [==============================] - 1s 141us/step - loss: 0.3942 - acc: 0.8371\n",
      "Epoch 38/100\n",
      "8000/8000 [==============================] - 1s 159us/step - loss: 0.3938 - acc: 0.8336\n",
      "Epoch 39/100\n",
      "8000/8000 [==============================] - 1s 179us/step - loss: 0.3936 - acc: 0.8367\n",
      "Epoch 40/100\n",
      "8000/8000 [==============================] - 2s 189us/step - loss: 0.3929 - acc: 0.8366\n",
      "Epoch 41/100\n",
      "8000/8000 [==============================] - 1s 136us/step - loss: 0.3934 - acc: 0.8371\n",
      "Epoch 42/100\n",
      "8000/8000 [==============================] - 1s 176us/step - loss: 0.3937 - acc: 0.8371\n",
      "Epoch 43/100\n",
      "8000/8000 [==============================] - 1s 168us/step - loss: 0.3939 - acc: 0.8349\n",
      "Epoch 44/100\n",
      "8000/8000 [==============================] - 1s 131us/step - loss: 0.3936 - acc: 0.8381\n",
      "Epoch 45/100\n",
      "8000/8000 [==============================] - 1s 126us/step - loss: 0.3937 - acc: 0.8356\n",
      "Epoch 46/100\n",
      "8000/8000 [==============================] - 1s 121us/step - loss: 0.3931 - acc: 0.8357\n",
      "Epoch 47/100\n",
      "8000/8000 [==============================] - 1s 128us/step - loss: 0.3934 - acc: 0.8376\n",
      "Epoch 48/100\n",
      "8000/8000 [==============================] - 1s 122us/step - loss: 0.3928 - acc: 0.8364\n",
      "Epoch 49/100\n",
      "8000/8000 [==============================] - 1s 126us/step - loss: 0.3934 - acc: 0.8367\n",
      "Epoch 50/100\n",
      "8000/8000 [==============================] - 1s 125us/step - loss: 0.3937 - acc: 0.8372\n",
      "Epoch 51/100\n",
      "8000/8000 [==============================] - 1s 150us/step - loss: 0.3934 - acc: 0.8360\n",
      "Epoch 52/100\n",
      "8000/8000 [==============================] - 1s 138us/step - loss: 0.3939 - acc: 0.8346\n",
      "Epoch 53/100\n",
      "8000/8000 [==============================] - 1s 140us/step - loss: 0.3932 - acc: 0.8367\n",
      "Epoch 54/100\n",
      "8000/8000 [==============================] - 1s 119us/step - loss: 0.3938 - acc: 0.8364\n",
      "Epoch 55/100\n",
      "8000/8000 [==============================] - 1s 116us/step - loss: 0.3935 - acc: 0.8362\n",
      "Epoch 56/100\n",
      "8000/8000 [==============================] - 1s 120us/step - loss: 0.3934 - acc: 0.8375\n",
      "Epoch 57/100\n",
      "8000/8000 [==============================] - 1s 127us/step - loss: 0.3932 - acc: 0.8380\n",
      "Epoch 58/100\n",
      "8000/8000 [==============================] - 1s 125us/step - loss: 0.3932 - acc: 0.8371\n",
      "Epoch 59/100\n",
      "8000/8000 [==============================] - 1s 116us/step - loss: 0.3928 - acc: 0.8365\n",
      "Epoch 60/100\n",
      "8000/8000 [==============================] - 1s 121us/step - loss: 0.3935 - acc: 0.8349\n",
      "Epoch 61/100\n",
      "8000/8000 [==============================] - 1s 119us/step - loss: 0.3932 - acc: 0.8376\n",
      "Epoch 62/100\n",
      "8000/8000 [==============================] - 1s 123us/step - loss: 0.3936 - acc: 0.8340\n",
      "Epoch 63/100\n",
      "8000/8000 [==============================] - 1s 121us/step - loss: 0.3933 - acc: 0.8352\n",
      "Epoch 64/100\n",
      "8000/8000 [==============================] - 1s 120us/step - loss: 0.3936 - acc: 0.8385\n",
      "Epoch 65/100\n",
      "8000/8000 [==============================] - 1s 121us/step - loss: 0.3928 - acc: 0.8376\n",
      "Epoch 66/100\n",
      "8000/8000 [==============================] - 1s 131us/step - loss: 0.3935 - acc: 0.8366\n",
      "Epoch 67/100\n",
      "8000/8000 [==============================] - 1s 151us/step - loss: 0.3933 - acc: 0.8379\n",
      "Epoch 68/100\n",
      "8000/8000 [==============================] - 1s 130us/step - loss: 0.3933 - acc: 0.8364\n",
      "Epoch 69/100\n",
      "8000/8000 [==============================] - 1s 123us/step - loss: 0.3927 - acc: 0.8366\n",
      "Epoch 70/100\n",
      "8000/8000 [==============================] - 1s 123us/step - loss: 0.3929 - acc: 0.8361\n",
      "Epoch 71/100\n",
      "8000/8000 [==============================] - 1s 130us/step - loss: 0.3930 - acc: 0.8371\n",
      "Epoch 72/100\n",
      "8000/8000 [==============================] - 1s 123us/step - loss: 0.3928 - acc: 0.8375\n",
      "Epoch 73/100\n",
      "8000/8000 [==============================] - 1s 125us/step - loss: 0.3929 - acc: 0.8361\n",
      "Epoch 74/100\n",
      "8000/8000 [==============================] - 1s 116us/step - loss: 0.3925 - acc: 0.8360\n",
      "Epoch 75/100\n",
      "8000/8000 [==============================] - 1s 123us/step - loss: 0.3930 - acc: 0.8350\n",
      "Epoch 76/100\n",
      "8000/8000 [==============================] - 1s 117us/step - loss: 0.3931 - acc: 0.8371\n",
      "Epoch 77/100\n",
      "8000/8000 [==============================] - 1s 119us/step - loss: 0.3932 - acc: 0.8361\n",
      "Epoch 78/100\n",
      "8000/8000 [==============================] - 1s 124us/step - loss: 0.3927 - acc: 0.8359\n",
      "Epoch 79/100\n",
      "8000/8000 [==============================] - 1s 120us/step - loss: 0.3930 - acc: 0.8369\n",
      "Epoch 80/100\n",
      "8000/8000 [==============================] - 1s 123us/step - loss: 0.3926 - acc: 0.8347\n",
      "Epoch 81/100\n",
      "8000/8000 [==============================] - 1s 122us/step - loss: 0.3928 - acc: 0.8364\n",
      "Epoch 82/100\n"
     ]
    },
    {
     "name": "stdout",
     "output_type": "stream",
     "text": [
      "8000/8000 [==============================] - 1s 130us/step - loss: 0.3931 - acc: 0.8375\n",
      "Epoch 83/100\n",
      "8000/8000 [==============================] - 1s 139us/step - loss: 0.3930 - acc: 0.8370\n",
      "Epoch 84/100\n",
      "8000/8000 [==============================] - 1s 139us/step - loss: 0.3928 - acc: 0.8361\n",
      "Epoch 85/100\n",
      "8000/8000 [==============================] - 1s 127us/step - loss: 0.3922 - acc: 0.8365\n",
      "Epoch 86/100\n",
      "8000/8000 [==============================] - 1s 120us/step - loss: 0.3926 - acc: 0.8355\n",
      "Epoch 87/100\n",
      "8000/8000 [==============================] - 1s 119us/step - loss: 0.3928 - acc: 0.8361\n",
      "Epoch 88/100\n",
      "8000/8000 [==============================] - 1s 129us/step - loss: 0.3933 - acc: 0.8360\n",
      "Epoch 89/100\n",
      "8000/8000 [==============================] - 1s 125us/step - loss: 0.3923 - acc: 0.8357\n",
      "Epoch 90/100\n",
      "8000/8000 [==============================] - 1s 117us/step - loss: 0.3933 - acc: 0.8361\n",
      "Epoch 91/100\n",
      "8000/8000 [==============================] - 1s 116us/step - loss: 0.3923 - acc: 0.8384\n",
      "Epoch 92/100\n",
      "8000/8000 [==============================] - 1s 119us/step - loss: 0.3931 - acc: 0.8351\n",
      "Epoch 93/100\n",
      "8000/8000 [==============================] - 1s 128us/step - loss: 0.3931 - acc: 0.8372\n",
      "Epoch 94/100\n",
      "8000/8000 [==============================] - 1s 117us/step - loss: 0.3925 - acc: 0.8367\n",
      "Epoch 95/100\n",
      "8000/8000 [==============================] - 1s 122us/step - loss: 0.3936 - acc: 0.8384\n",
      "Epoch 96/100\n",
      "8000/8000 [==============================] - 1s 120us/step - loss: 0.3923 - acc: 0.8371\n",
      "Epoch 97/100\n",
      "8000/8000 [==============================] - 1s 124us/step - loss: 0.3924 - acc: 0.8372\n",
      "Epoch 98/100\n",
      "8000/8000 [==============================] - 1s 130us/step - loss: 0.3923 - acc: 0.8377\n",
      "Epoch 99/100\n",
      "8000/8000 [==============================] - 1s 143us/step - loss: 0.3923 - acc: 0.8391\n",
      "Epoch 100/100\n",
      "8000/8000 [==============================] - 1s 131us/step - loss: 0.3924 - acc: 0.8385\n"
     ]
    },
    {
     "data": {
      "text/plain": [
       "<keras.callbacks.History at 0x2d955d08ac8>"
      ]
     },
     "execution_count": 15,
     "metadata": {},
     "output_type": "execute_result"
    }
   ],
   "source": [
    "# Fitting the ANN to the Training set\n",
    "classifier.fit(X_train, y_train, batch_size = 10, epochs = 100)"
   ]
  },
  {
   "cell_type": "code",
   "execution_count": 16,
   "metadata": {},
   "outputs": [],
   "source": [
    "# Part 3 - Making predictions and evaluating the model\n",
    "\n",
    "# Predicting the Test set results\n",
    "y_pred = classifier.predict(X_test)\n",
    "y_pred = (y_pred > 0.5)"
   ]
  },
  {
   "cell_type": "code",
   "execution_count": 18,
   "metadata": {},
   "outputs": [],
   "source": [
    "# Predicting a single new observation\n",
    "\"\"\"Predict if the customer with the following informations will leave the bank:\n",
    "Geography: France\n",
    "Credit Score: 600\n",
    "Gender: Male\n",
    "Age: 40\n",
    "Tenure: 3\n",
    "Balance: 60000\n",
    "Number of Products: 2\n",
    "Has Credit Card: Yes\n",
    "Is Active Member: Yes\n",
    "Estimated Salary: 50000\"\"\"\n",
    "new_prediction = classifier.predict(sc.transform(np.array([[0.0, 0, 600, 1, 40, 3, 60000, 2, 1, 1, 50000]])))\n",
    "new_prediction = (new_prediction > 0.5)\n"
   ]
  },
  {
   "cell_type": "code",
   "execution_count": 19,
   "metadata": {},
   "outputs": [
    {
     "name": "stdout",
     "output_type": "stream",
     "text": [
      "[[False]]\n"
     ]
    }
   ],
   "source": [
    "print(new_prediction)"
   ]
  },
  {
   "cell_type": "code",
   "execution_count": 20,
   "metadata": {},
   "outputs": [],
   "source": [
    "# Making the Confusion Matrix\n",
    "from sklearn.metrics import confusion_matrix\n",
    "cm = confusion_matrix(y_test, y_pred)\n"
   ]
  },
  {
   "cell_type": "code",
   "execution_count": 21,
   "metadata": {},
   "outputs": [
    {
     "name": "stdout",
     "output_type": "stream",
     "text": [
      "[[1550   45]\n",
      " [ 265  140]]\n"
     ]
    }
   ],
   "source": [
    "print(cm)"
   ]
  },
  {
   "cell_type": "code",
   "execution_count": 24,
   "metadata": {},
   "outputs": [],
   "source": [
    "accuracy=(1550+140)/2000"
   ]
  },
  {
   "cell_type": "code",
   "execution_count": 25,
   "metadata": {},
   "outputs": [
    {
     "name": "stdout",
     "output_type": "stream",
     "text": [
      "0.845\n"
     ]
    }
   ],
   "source": [
    "print(accuracy)"
   ]
  },
  {
   "cell_type": "code",
   "execution_count": 26,
   "metadata": {},
   "outputs": [],
   "source": [
    "# Evaluating the ANN\n",
    "from keras.wrappers.scikit_learn import KerasClassifier\n",
    "from sklearn.model_selection import cross_val_score\n",
    "from keras.models import Sequential\n",
    "from keras.layers import Dense"
   ]
  },
  {
   "cell_type": "code",
   "execution_count": 27,
   "metadata": {},
   "outputs": [],
   "source": [
    "def build_classifier():\n",
    "    classifier = Sequential()\n",
    "    classifier.add(Dense(units = 6, kernel_initializer = 'uniform', activation = 'relu', input_dim = 11))\n",
    "    classifier.add(Dense(units = 6, kernel_initializer = 'uniform', activation = 'relu'))\n",
    "    classifier.add(Dense(units = 1, kernel_initializer = 'uniform', activation = 'sigmoid'))\n",
    "    classifier.compile(optimizer = 'adam', loss = 'binary_crossentropy', metrics = ['accuracy'])\n",
    "    return classifier"
   ]
  },
  {
   "cell_type": "code",
   "execution_count": null,
   "metadata": {},
   "outputs": [],
   "source": [
    "classifier = KerasClassifier(build_fn = build_classifier, batch_size = 10, epochs = 100)\n",
    "accuracies = cross_val_score(estimator = classifier, X = X_train, y = y_train, cv = 10, n_jobs = -1)\n",
    "mean = accuracies.mean()\n",
    "variance = accuracies.std()"
   ]
  }
 ],
 "metadata": {
  "kernelspec": {
   "display_name": "Python 3",
   "language": "python",
   "name": "python3"
  },
  "language_info": {
   "codemirror_mode": {
    "name": "ipython",
    "version": 3
   },
   "file_extension": ".py",
   "mimetype": "text/x-python",
   "name": "python",
   "nbconvert_exporter": "python",
   "pygments_lexer": "ipython3",
   "version": "3.6.6"
  }
 },
 "nbformat": 4,
 "nbformat_minor": 2
}
